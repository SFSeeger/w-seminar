{
 "cells": [
  {
   "cell_type": "code",
   "execution_count": null,
   "id": "95740e57",
   "metadata": {
    "scrolled": true
   },
   "outputs": [],
   "source": [
    "from ipywidgets import IntProgress\n",
    "from IPython.display import display\n",
    "\n",
    "import tensorflow as tf\n",
    "import numpy as np\n",
    "import pandas as pd\n",
    "import matplotlib.pyplot as plt\n",
    "\n",
    "import kaggle\n",
    "import os\n",
    "import glob\n",
    "import shutil\n",
    "print(\"Num GPUs Available: \", len(tf.config.experimental.list_physical_devices('GPU')))\n",
    "\n",
    "\n",
    "BASE_DIR = os.getcwd()"
   ]
  },
  {
   "cell_type": "code",
   "execution_count": null,
   "id": "f53258c1",
   "metadata": {},
   "outputs": [],
   "source": [
    "# Download CelebA Dataset from Kaggle\n",
    "!kaggle  datasets download -d jessicali9530/celeba-dataset\n",
    "!unzip -d dataset -u -q celeba-dataset.zip "
   ]
  },
  {
   "cell_type": "code",
   "execution_count": null,
   "id": "8c157362",
   "metadata": {
    "scrolled": true
   },
   "outputs": [],
   "source": [
    "#Sort images into categories\n",
    "df = pd.read_csv('dataset/list_attr_celeba.csv')\n",
    "df.head()\n",
    "is_male_df = df[\"Male\"]\n",
    "\n",
    "ds_PATH = \"dataset/img_align_celeba/img_align_celeba/\"\n",
    "\n",
    "for file in glob.glob(os.path.join(ds_PATH, \"*.jpg\")):\n",
    "    file_number = file.strip(ds_PATH).strip(\".jpg\")\n",
    "    if is_male_df[int(file_number)-1] == 1:\n",
    "        shutil.copy2(file, os.path.join(BASE_DIR, \"dataset/preprocessed/male\", file_number+\".jpg\"))\n",
    "    else:\n",
    "        shutil.copy2(file, os.path.join(BASE_DIR, \"dataset/preprocessed/female\", file_number+\".jpg\")) "
   ]
  },
  {
   "cell_type": "code",
   "execution_count": null,
   "id": "95eb6e6a",
   "metadata": {},
   "outputs": [],
   "source": [
    "IMAGE_WIDTH = 64\n",
    "IMAGE_HEIGHT = 64\n",
    "BATCH_SIZE = 128"
   ]
  },
  {
   "cell_type": "code",
   "execution_count": null,
   "id": "ba086e49",
   "metadata": {},
   "outputs": [],
   "source": [
    "# generate and test dataset\n",
    "AUTOTUNE = tf.data.AUTOTUNE\n",
    "train_ds = tf.keras.utils.image_dataset_from_directory(\n",
    "    os.path.join(BASE_DIR, \"dataset/preprocessed\"),\n",
    "    image_size=(IMAGE_HEIGHT, IMAGE_WIDTH),\n",
    "    batch_size=BATCH_SIZE)\n",
    "train_ds.cache().prefetch(buffer_size=AUTOTUNE)"
   ]
  },
  {
   "cell_type": "code",
   "execution_count": null,
   "id": "31cd9ec2",
   "metadata": {},
   "outputs": [],
   "source": [
    "# plot example images\n",
    "class_names = train_ds.class_names\n",
    "plt.figure(figsize=(10, 10))\n",
    "for images, labels in train_ds.take(1):\n",
    "    for i in range(9):\n",
    "        ax = plt.subplot(3, 3, i + 1)\n",
    "        plt.imshow(images[i].numpy().astype(\"uint8\"))\n",
    "        plt.title(class_names[labels[i]])\n",
    "        plt.axis(\"off\")\n"
   ]
  }
 ],
 "metadata": {
  "kernelspec": {
   "display_name": "Python 3 (ipykernel)",
   "language": "python",
   "name": "python3"
  },
  "language_info": {
   "codemirror_mode": {
    "name": "ipython",
    "version": 3
   },
   "file_extension": ".py",
   "mimetype": "text/x-python",
   "name": "python",
   "nbconvert_exporter": "python",
   "pygments_lexer": "ipython3",
   "version": "3.9.13"
  }
 },
 "nbformat": 4,
 "nbformat_minor": 5
}
